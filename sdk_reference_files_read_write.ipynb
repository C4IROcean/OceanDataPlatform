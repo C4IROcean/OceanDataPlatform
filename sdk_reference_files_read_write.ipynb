{
 "cells": [
  {
   "cell_type": "code",
   "execution_count": 1,
   "id": "b1d22042-26dc-4e82-bb98-cc7172b4b2e6",
   "metadata": {},
   "outputs": [],
   "source": [
    "from odp.client import Client"
   ]
  },
  {
   "cell_type": "code",
   "execution_count": 2,
   "id": "42760422-e7fc-4091-a0a0-69dc76d4db7e",
   "metadata": {},
   "outputs": [],
   "source": [
    "client = Client()"
   ]
  },
  {
   "cell_type": "code",
   "execution_count": 108,
   "id": "cf4021e1-8040-4ed8-ad30-37f68d64d34c",
   "metadata": {},
   "outputs": [],
   "source": [
    "dataset = client.dataset(\"2d2efb1f-921e-4ddd-93f6-7d6c5b333a61\")"
   ]
  },
  {
   "cell_type": "markdown",
   "id": "2a2dc91d-5d81-4b64-ac72-78c63cede91a",
   "metadata": {},
   "source": [
    "## File listing"
   ]
  },
  {
   "cell_type": "markdown",
   "id": "91c2946a-5d6c-4a37-ba20-d20220e12ac0",
   "metadata": {},
   "source": [
    "### list()"
   ]
  },
  {
   "cell_type": "code",
   "execution_count": 118,
   "id": "3488966d-9fcd-4500-b15d-c79818f91cca",
   "metadata": {},
   "outputs": [
    {
     "name": "stdout",
     "output_type": "stream",
     "text": [
      "[{'id': '7c9e93be-8a3', 'name': 'niklas super duper dataset 2', 'created': '2025-10-09T12:38:21.723000+00:00', 'updated': '2025-10-09T12:38:21.723000+00:00', 'size': 34163, 'format': 'csv', 'mimetype': 'text/csv', 'geometry': None, 'properties': [['value', '2000']]}, {'id': '10a6f4e0-e8e', 'name': 'ocean_ecology.geojson', 'created': '2025-10-09T13:25:47.703000+00:00', 'updated': '2025-10-09T13:25:47.703000+00:00', 'size': 3268, 'format': '', 'mimetype': 'application/geo+json', 'geometry': None, 'properties': None}]\n"
     ]
    }
   ],
   "source": [
    "# List all files\n",
    "files = dataset.files.list()\n",
    "print(files)"
   ]
  },
  {
   "cell_type": "code",
   "execution_count": 114,
   "id": "d2d9ff81-411f-4270-8e89-968d9d58507b",
   "metadata": {},
   "outputs": [
    {
     "name": "stdout",
     "output_type": "stream",
     "text": [
      "7c9e93be-8a3\n"
     ]
    }
   ],
   "source": [
    "file_id = files[0]['id']\n",
    "print(file_id)"
   ]
  },
  {
   "cell_type": "code",
   "execution_count": 112,
   "id": "773738dc-4060-4a7f-981f-587e7d7a5214",
   "metadata": {},
   "outputs": [
    {
     "name": "stdout",
     "output_type": "stream",
     "text": [
      "0\n"
     ]
    }
   ],
   "source": [
    "# List files with query filter \n",
    "large_files = dataset.files.list(\n",
    "    query=\"size > $min_size\",\n",
    "    vars={\"min_size\": 20000000}  # Files > 20MB\n",
    ")\n",
    "print(len(large_files)) # number of files larger than 20MB"
   ]
  },
  {
   "cell_type": "markdown",
   "id": "8a8fa210-685f-4a54-9240-11c65ca93ea2",
   "metadata": {},
   "source": [
    "## list_batches()"
   ]
  },
  {
   "cell_type": "markdown",
   "id": "9835e027-19ef-4147-8eb1-8a4d3d9e5fe6",
   "metadata": {},
   "source": [
    "## upload()"
   ]
  },
  {
   "cell_type": "code",
   "execution_count": 68,
   "id": "43da1af7-dcaa-4945-8a05-310b6ea28cb2",
   "metadata": {},
   "outputs": [],
   "source": [
    "# Upload to Dataset a CSV from file\n",
    "with open(\"ocean_climate_dataset.csv\", \"rb\") as f:\n",
    "    file_id = dataset.files.upload(\"ocean_climate_dataset_2.csv\", f)"
   ]
  },
  {
   "cell_type": "markdown",
   "id": "30cf5d50-abbf-4d11-8dbb-fa9c91df7301",
   "metadata": {},
   "source": [
    "## update_meta()"
   ]
  },
  {
   "cell_type": "code",
   "execution_count": 115,
   "id": "a42f5e4b-b5e0-4356-8010-b8d57bc953fd",
   "metadata": {},
   "outputs": [
    {
     "data": {
      "text/plain": [
       "{'id': '7c9e93be-8a3',\n",
       " 'name': 'niklas super duper dataset 2',\n",
       " 'created': '2025-10-09T12:38:21.723000+00:00',\n",
       " 'updated': '2025-10-09T12:38:21.723000+00:00',\n",
       " 'size': 34163,\n",
       " 'format': 'csv',\n",
       " 'mimetype': 'text/csv',\n",
       " 'geometry': None,\n",
       " 'properties': {'value': '2000'}}"
      ]
     },
     "execution_count": 115,
     "metadata": {},
     "output_type": "execute_result"
    }
   ],
   "source": [
    "# Update file metadata\n",
    "custom_meta = {\n",
    "    \"value\" : 2000\n",
    "}\n",
    "\n",
    "dataset.files.update_meta(\n",
    "    file_id,\n",
    "    {\n",
    "        \"name\" : \"niklas super duper dataset 2\",\n",
    "        \"properties\" : custom_meta\n",
    "    }\n",
    ")"
   ]
  },
  {
   "cell_type": "markdown",
   "id": "a39639db-d44e-4ebb-b2c2-2e26ee7257c5",
   "metadata": {},
   "source": [
    "## download()"
   ]
  },
  {
   "cell_type": "code",
   "execution_count": 71,
   "id": "f5e48efa-3fad-4ff0-b2d7-045c10f2d506",
   "metadata": {},
   "outputs": [],
   "source": [
    "with open(\"downloaded_dataset.csv\", \"wb\") as f:\n",
    "    for chunk in dataset.files.download(file_id):\n",
    "        f.write(chunk)"
   ]
  },
  {
   "cell_type": "markdown",
   "id": "9a76de86-fc02-4520-a0a2-7c903aed00e9",
   "metadata": {},
   "source": [
    "## delete()"
   ]
  },
  {
   "cell_type": "code",
   "execution_count": 21,
   "id": "17793cb0-c56f-4ff3-bf0e-d221e08fe3d8",
   "metadata": {},
   "outputs": [
    {
     "name": "stdout",
     "output_type": "stream",
     "text": [
      "4c65d5db-0dd\n"
     ]
    }
   ],
   "source": [
    "file_id = str(files[0]['id'])\n",
    "print(file_id)"
   ]
  },
  {
   "cell_type": "code",
   "execution_count": 22,
   "id": "6d93d7d9-7c79-4ec9-b1b2-5769a6bab5bb",
   "metadata": {},
   "outputs": [],
   "source": [
    "dataset.files.delete(id = file_id)"
   ]
  },
  {
   "cell_type": "markdown",
   "id": "6e50ea32-8e74-46bb-81c9-d272c3ec4241",
   "metadata": {},
   "source": [
    "## ingest()"
   ]
  },
  {
   "cell_type": "markdown",
   "id": "66e3a5f2-05fc-4a42-9690-a0b2ece89b37",
   "metadata": {},
   "source": [
    "Ingest uploaded files into a Table. Currently we support the following formats: CSV and Parquet/GeoParquet. The ingest creates a table woth the same squema as the file. If the table already exists and the schema is the same (name, type), the data from the file is appended as default."
   ]
  },
  {
   "cell_type": "code",
   "execution_count": 123,
   "id": "47709ae8-803d-4215-b4a9-a6d3f2cec87b",
   "metadata": {},
   "outputs": [],
   "source": [
    "dataset.files.ingest(file_id) "
   ]
  },
  {
   "cell_type": "code",
   "execution_count": 124,
   "id": "b0211a94-0334-4c23-a7f9-a5ca254a68b7",
   "metadata": {},
   "outputs": [
    {
     "data": {
      "text/html": [
       "<div>\n",
       "<style scoped>\n",
       "    .dataframe tbody tr th:only-of-type {\n",
       "        vertical-align: middle;\n",
       "    }\n",
       "\n",
       "    .dataframe tbody tr th {\n",
       "        vertical-align: top;\n",
       "    }\n",
       "\n",
       "    .dataframe thead th {\n",
       "        text-align: right;\n",
       "    }\n",
       "</style>\n",
       "<table border=\"1\" class=\"dataframe\">\n",
       "  <thead>\n",
       "    <tr style=\"text-align: right;\">\n",
       "      <th></th>\n",
       "      <th>Date</th>\n",
       "      <th>Location</th>\n",
       "      <th>Latitude</th>\n",
       "      <th>Longitude</th>\n",
       "      <th>SST (°C)</th>\n",
       "      <th>pH Level</th>\n",
       "      <th>Bleaching Severity</th>\n",
       "      <th>Species Observed</th>\n",
       "      <th>Marine Heatwave</th>\n",
       "    </tr>\n",
       "  </thead>\n",
       "  <tbody>\n",
       "    <tr>\n",
       "      <th>0</th>\n",
       "      <td>2015-01-01</td>\n",
       "      <td>Red Sea</td>\n",
       "      <td>20.0248</td>\n",
       "      <td>38.4931</td>\n",
       "      <td>29.47</td>\n",
       "      <td>8.107</td>\n",
       "      <td>None</td>\n",
       "      <td>106</td>\n",
       "      <td>False</td>\n",
       "    </tr>\n",
       "    <tr>\n",
       "      <th>1</th>\n",
       "      <td>2015-01-07</td>\n",
       "      <td>Great Barrier Reef</td>\n",
       "      <td>-18.2988</td>\n",
       "      <td>147.7782</td>\n",
       "      <td>29.65</td>\n",
       "      <td>8.004</td>\n",
       "      <td>High</td>\n",
       "      <td>116</td>\n",
       "      <td>False</td>\n",
       "    </tr>\n",
       "    <tr>\n",
       "      <th>2</th>\n",
       "      <td>2015-01-14</td>\n",
       "      <td>Caribbean Sea</td>\n",
       "      <td>14.9768</td>\n",
       "      <td>-75.0233</td>\n",
       "      <td>28.86</td>\n",
       "      <td>7.947</td>\n",
       "      <td>High</td>\n",
       "      <td>90</td>\n",
       "      <td>False</td>\n",
       "    </tr>\n",
       "    <tr>\n",
       "      <th>3</th>\n",
       "      <td>2015-01-20</td>\n",
       "      <td>Great Barrier Reef</td>\n",
       "      <td>-18.3152</td>\n",
       "      <td>147.6486</td>\n",
       "      <td>28.97</td>\n",
       "      <td>7.995</td>\n",
       "      <td>Medium</td>\n",
       "      <td>94</td>\n",
       "      <td>False</td>\n",
       "    </tr>\n",
       "    <tr>\n",
       "      <th>4</th>\n",
       "      <td>2015-01-27</td>\n",
       "      <td>Galápagos</td>\n",
       "      <td>-0.8805</td>\n",
       "      <td>-90.9769</td>\n",
       "      <td>28.60</td>\n",
       "      <td>7.977</td>\n",
       "      <td>None</td>\n",
       "      <td>110</td>\n",
       "      <td>False</td>\n",
       "    </tr>\n",
       "  </tbody>\n",
       "</table>\n",
       "</div>"
      ],
      "text/plain": [
       "         Date            Location  Latitude  Longitude  SST (°C)  pH Level  \\\n",
       "0  2015-01-01             Red Sea   20.0248    38.4931     29.47     8.107   \n",
       "1  2015-01-07  Great Barrier Reef  -18.2988   147.7782     29.65     8.004   \n",
       "2  2015-01-14       Caribbean Sea   14.9768   -75.0233     28.86     7.947   \n",
       "3  2015-01-20  Great Barrier Reef  -18.3152   147.6486     28.97     7.995   \n",
       "4  2015-01-27           Galápagos   -0.8805   -90.9769     28.60     7.977   \n",
       "\n",
       "  Bleaching Severity  Species Observed  Marine Heatwave  \n",
       "0               None               106            False  \n",
       "1               High               116            False  \n",
       "2               High                90            False  \n",
       "3             Medium                94            False  \n",
       "4               None               110            False  "
      ]
     },
     "execution_count": 124,
     "metadata": {},
     "output_type": "execute_result"
    }
   ],
   "source": [
    "df = dataset.table.select().all().dataframe()\n",
    "df.head()"
   ]
  }
 ],
 "metadata": {
  "kernelspec": {
   "display_name": "Python 3 (ipykernel)",
   "language": "python",
   "name": "python3"
  },
  "language_info": {
   "codemirror_mode": {
    "name": "ipython",
    "version": 3
   },
   "file_extension": ".py",
   "mimetype": "text/x-python",
   "name": "python",
   "nbconvert_exporter": "python",
   "pygments_lexer": "ipython3",
   "version": "3.12.11"
  }
 },
 "nbformat": 4,
 "nbformat_minor": 5
}
