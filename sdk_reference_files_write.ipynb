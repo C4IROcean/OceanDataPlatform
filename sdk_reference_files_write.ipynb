{
 "cells": [
  {
   "cell_type": "markdown",
   "id": "e2bd6d61-98b2-466f-9d19-8db0b3cb87c0",
   "metadata": {},
   "source": [
    "# SDK Reference Files - `files()` - write"
   ]
  },
  {
   "cell_type": "markdown",
   "id": "fa4f2efa-e4f8-43bd-99f1-07b3fa919b59",
   "metadata": {},
   "source": [
    "Ocean Data Platform offers both API and Python SDK interfaces. This notebook highlights the Python SDK."
   ]
  },
  {
   "cell_type": "markdown",
   "id": "e1f5bacf-8a44-4dcc-9ad1-78106a60c8aa",
   "metadata": {},
   "source": [
    "## Installation"
   ]
  },
  {
   "cell_type": "markdown",
   "id": "73470313-e2ec-428a-a3e1-5cada0ba0581",
   "metadata": {},
   "source": [
    "If you are not working in the ODP Workspaces, you need to first install the Python SDK package"
   ]
  },
  {
   "cell_type": "markdown",
   "id": "9ed67b4e-4681-48c3-b04e-8be6d4098c7b",
   "metadata": {},
   "source": [
    "```bash\n",
    "pip install -U odp-sdk\n",
    "```"
   ]
  },
  {
   "cell_type": "markdown",
   "id": "8d366fac-918f-4390-aec3-9372fee0ff24",
   "metadata": {},
   "source": [
    "## Client Initialization"
   ]
  },
  {
   "cell_type": "code",
   "execution_count": 42,
   "id": "b1d22042-26dc-4e82-bb98-cc7172b4b2e6",
   "metadata": {},
   "outputs": [],
   "source": [
    "from odp.client import Client"
   ]
  },
  {
   "cell_type": "code",
   "execution_count": 43,
   "id": "42760422-e7fc-4091-a0a0-69dc76d4db7e",
   "metadata": {},
   "outputs": [],
   "source": [
    "client = Client()"
   ]
  },
  {
   "cell_type": "markdown",
   "id": "3e12e06f-5d94-44fe-b998-d29d3ff8dc80",
   "metadata": {},
   "source": [
    "Outside ODP Workspces you can use API Key authentication (don't need to open browser).\n",
    "You can generate an API key in the Ocean Data Platform web interface, under your user profile.\n",
    "```python\n",
    "client = Client(api_key=\"your-api-key\")\n",
    "````"
   ]
  },
  {
   "cell_type": "markdown",
   "id": "d0182d46-dbaf-42c9-8c81-665deb0b09e3",
   "metadata": {},
   "source": [
    "## Upload a file to dataset"
   ]
  },
  {
   "cell_type": "markdown",
   "id": "e5499cdb-9246-41e4-be36-63c36cee4775",
   "metadata": {},
   "source": [
    "In order to upload a file to a dataset, you first need to have or create a dataset. Go to https://app.hubocean.earth/my_data and press \"Add New Dataset\", fill in the name, description (and optional tags). On the Dataset admin page you can see the UUID. "
   ]
  },
  {
   "cell_type": "code",
   "execution_count": 5,
   "id": "cf4021e1-8040-4ed8-ad30-37f68d64d34c",
   "metadata": {},
   "outputs": [],
   "source": [
    "dataset = client.dataset(\"my-dataset-uuid\")"
   ]
  },
  {
   "cell_type": "markdown",
   "id": "9835e027-19ef-4147-8eb1-8a4d3d9e5fe6",
   "metadata": {},
   "source": [
    "### upload()"
   ]
  },
  {
   "cell_type": "code",
   "execution_count": 45,
   "id": "43da1af7-dcaa-4945-8a05-310b6ea28cb2",
   "metadata": {},
   "outputs": [],
   "source": [
    "# Upload to Dataset a CSV from file\n",
    "with open(\"Zooplankton_Chlorophyll_Distribution.csv\", \"rb\") as f:\n",
    "    file_id = dataset.files.upload(\"Zooplankton_Chlorophyll_Distribution.csv\", f)"
   ]
  },
  {
   "cell_type": "markdown",
   "id": "30cf5d50-abbf-4d11-8dbb-fa9c91df7301",
   "metadata": {},
   "source": [
    "### update_meta()"
   ]
  },
  {
   "cell_type": "markdown",
   "id": "86781107-68ed-4149-912a-bce6206b8611",
   "metadata": {},
   "source": [
    "The files have metadata that you can create and update through the SDK. The standard schema consisting of `id`, `name`, `created`, `updated`, `size`, `format`, `mimetype`, `geometry`. In addition you can create your custom metadata in `properties`."
   ]
  },
  {
   "cell_type": "code",
   "execution_count": 46,
   "id": "a42f5e4b-b5e0-4356-8010-b8d57bc953fd",
   "metadata": {},
   "outputs": [
    {
     "data": {
      "text/plain": [
       "{'id': '192e1bc5-1e1',\n",
       " 'name': 'Zooplankton and Chlorophyll Distribution in Southampton Water',\n",
       " 'created': '2025-10-31T14:25:20.517000+00:00',\n",
       " 'updated': '2025-10-31T14:25:20.517000+00:00',\n",
       " 'size': 31855,\n",
       " 'format': 'csv',\n",
       " 'mimetype': 'text/csv',\n",
       " 'geometry': None,\n",
       " 'properties': {'value': '2000', 'description': 'Measurements from boat'}}"
      ]
     },
     "execution_count": 46,
     "metadata": {},
     "output_type": "execute_result"
    }
   ],
   "source": [
    "# Update file metadata\n",
    "custom_meta = {\n",
    "    \"value\" : 2000,\n",
    "    \"description\" : \"Measurements from boat\"\n",
    "}\n",
    "\n",
    "dataset.files.update_meta(\n",
    "    file_id,\n",
    "    {\n",
    "        \"name\" : \"Zooplankton and Chlorophyll Distribution in Southampton Water\",\n",
    "        \"properties\" : custom_meta\n",
    "    }\n",
    ")"
   ]
  },
  {
   "cell_type": "markdown",
   "id": "6e50ea32-8e74-46bb-81c9-d272c3ec4241",
   "metadata": {},
   "source": [
    "## ingest()"
   ]
  },
  {
   "cell_type": "markdown",
   "id": "ae0fd3b7-bf90-4498-b1d2-1ceb4abeb48b",
   "metadata": {},
   "source": [
    "If you prefer to work with your tabular data in a table, you can easily do so using `ingest()`. Currently we support the following formats: CSV and Parquet/GeoParquet. The ingest creates a table with the same schema as the file. If the table already exists and the schema is the same (name, type), the data from the file is appended as default."
   ]
  },
  {
   "cell_type": "code",
   "execution_count": 47,
   "id": "47709ae8-803d-4215-b4a9-a6d3f2cec87b",
   "metadata": {},
   "outputs": [],
   "source": [
    "dataset.files.ingest(file_id) "
   ]
  },
  {
   "cell_type": "code",
   "execution_count": 48,
   "id": "b0211a94-0334-4c23-a7f9-a5ca254a68b7",
   "metadata": {},
   "outputs": [
    {
     "data": {
      "text/html": [
       "<div>\n",
       "<style scoped>\n",
       "    .dataframe tbody tr th:only-of-type {\n",
       "        vertical-align: middle;\n",
       "    }\n",
       "\n",
       "    .dataframe tbody tr th {\n",
       "        vertical-align: top;\n",
       "    }\n",
       "\n",
       "    .dataframe thead th {\n",
       "        text-align: right;\n",
       "    }\n",
       "</style>\n",
       "<table border=\"1\" class=\"dataframe\">\n",
       "  <thead>\n",
       "    <tr style=\"text-align: right;\">\n",
       "      <th></th>\n",
       "      <th>Station</th>\n",
       "      <th>date</th>\n",
       "      <th>time (gmt)</th>\n",
       "      <th>lat</th>\n",
       "      <th>long</th>\n",
       "      <th>water depth (m)</th>\n",
       "      <th>depth (m)</th>\n",
       "      <th>temp (C)</th>\n",
       "      <th>sal</th>\n",
       "      <th>fluor</th>\n",
       "      <th>trans</th>\n",
       "      <th>dens</th>\n",
       "      <th>PAR</th>\n",
       "      <th>BATH</th>\n",
       "    </tr>\n",
       "  </thead>\n",
       "  <tbody>\n",
       "    <tr>\n",
       "      <th>0</th>\n",
       "      <td>1</td>\n",
       "      <td>30.10.2014</td>\n",
       "      <td>9,49</td>\n",
       "      <td>50.54.248</td>\n",
       "      <td>001.23.296</td>\n",
       "      <td>6,4</td>\n",
       "      <td>0,25</td>\n",
       "      <td>11,8518</td>\n",
       "      <td>27,9455</td>\n",
       "      <td>0,0607</td>\n",
       "      <td>0,7672</td>\n",
       "      <td>1021,1443</td>\n",
       "      <td>3501</td>\n",
       "      <td>19,27</td>\n",
       "    </tr>\n",
       "    <tr>\n",
       "      <th>1</th>\n",
       "      <td>1</td>\n",
       "      <td>30.10.2014</td>\n",
       "      <td>9,49</td>\n",
       "      <td>50.54.248</td>\n",
       "      <td>001.23.296</td>\n",
       "      <td>6,4</td>\n",
       "      <td>0,5</td>\n",
       "      <td>11,8654</td>\n",
       "      <td>27,8897</td>\n",
       "      <td>0,0644</td>\n",
       "      <td>1,6673</td>\n",
       "      <td>1021,0998</td>\n",
       "      <td>1158,4</td>\n",
       "      <td>16,42</td>\n",
       "    </tr>\n",
       "    <tr>\n",
       "      <th>2</th>\n",
       "      <td>1</td>\n",
       "      <td>30.10.2014</td>\n",
       "      <td>9,49</td>\n",
       "      <td>50.54.248</td>\n",
       "      <td>001.23.296</td>\n",
       "      <td>6,4</td>\n",
       "      <td>0,75</td>\n",
       "      <td>11,9709</td>\n",
       "      <td>28,9148</td>\n",
       "      <td>0,0705</td>\n",
       "      <td>1,8466</td>\n",
       "      <td>1021,8765</td>\n",
       "      <td>718,01</td>\n",
       "      <td>15,97</td>\n",
       "    </tr>\n",
       "    <tr>\n",
       "      <th>3</th>\n",
       "      <td>1</td>\n",
       "      <td>30.10.2014</td>\n",
       "      <td>9,49</td>\n",
       "      <td>50.54.248</td>\n",
       "      <td>001.23.296</td>\n",
       "      <td>6,4</td>\n",
       "      <td>1</td>\n",
       "      <td>12,1656</td>\n",
       "      <td>31,0134</td>\n",
       "      <td>0,0741</td>\n",
       "      <td>1,6191</td>\n",
       "      <td>1023,4688</td>\n",
       "      <td>552,04</td>\n",
       "      <td>16,48</td>\n",
       "    </tr>\n",
       "    <tr>\n",
       "      <th>4</th>\n",
       "      <td>1</td>\n",
       "      <td>30.10.2014</td>\n",
       "      <td>9,49</td>\n",
       "      <td>50.54.248</td>\n",
       "      <td>001.23.296</td>\n",
       "      <td>6,4</td>\n",
       "      <td>1,25</td>\n",
       "      <td>12,1207</td>\n",
       "      <td>30,4839</td>\n",
       "      <td>0,0717</td>\n",
       "      <td>1,5931</td>\n",
       "      <td>1023,0678</td>\n",
       "      <td>413,08</td>\n",
       "      <td>16,56</td>\n",
       "    </tr>\n",
       "  </tbody>\n",
       "</table>\n",
       "</div>"
      ],
      "text/plain": [
       "   Station        date time (gmt)        lat        long water depth (m)  \\\n",
       "0        1  30.10.2014       9,49  50.54.248  001.23.296             6,4   \n",
       "1        1  30.10.2014       9,49  50.54.248  001.23.296             6,4   \n",
       "2        1  30.10.2014       9,49  50.54.248  001.23.296             6,4   \n",
       "3        1  30.10.2014       9,49  50.54.248  001.23.296             6,4   \n",
       "4        1  30.10.2014       9,49  50.54.248  001.23.296             6,4   \n",
       "\n",
       "  depth (m) temp (C)      sal   fluor   trans       dens     PAR   BATH  \n",
       "0      0,25  11,8518  27,9455  0,0607  0,7672  1021,1443    3501  19,27  \n",
       "1       0,5  11,8654  27,8897  0,0644  1,6673  1021,0998  1158,4  16,42  \n",
       "2      0,75  11,9709  28,9148  0,0705  1,8466  1021,8765  718,01  15,97  \n",
       "3         1  12,1656  31,0134  0,0741  1,6191  1023,4688  552,04  16,48  \n",
       "4      1,25  12,1207  30,4839  0,0717  1,5931  1023,0678  413,08  16,56  "
      ]
     },
     "execution_count": 48,
     "metadata": {},
     "output_type": "execute_result"
    }
   ],
   "source": [
    "df = dataset.table.select().all().dataframe()\n",
    "df.head()"
   ]
  },
  {
   "cell_type": "markdown",
   "id": "9a76de86-fc02-4520-a0a2-7c903aed00e9",
   "metadata": {},
   "source": [
    "## delete()"
   ]
  },
  {
   "cell_type": "markdown",
   "id": "172e5390-1acc-48bf-8252-df959da3342a",
   "metadata": {},
   "source": [
    "If you want to delete a file you to that by using `delete()`and passing the `id`of the file."
   ]
  },
  {
   "cell_type": "code",
   "execution_count": 49,
   "id": "bd55e7c6-b5c8-48ed-a3d3-330bf288e91c",
   "metadata": {},
   "outputs": [],
   "source": [
    "# Get the medatadata for the Files and pick the if of the first file (in this example you could also just use your existing file_id if you want to delete that file\n",
    "files = dataset.files.list() # See sdk_reference_files_read.ipynb to learn about how to read metadata of files\n",
    "file_id = str(files[0]['id'])"
   ]
  },
  {
   "cell_type": "code",
   "execution_count": 50,
   "id": "6d93d7d9-7c79-4ec9-b1b2-5769a6bab5bb",
   "metadata": {},
   "outputs": [],
   "source": [
    "# Delete that file\n",
    "dataset.files.delete(id = file_id)"
   ]
  }
 ],
 "metadata": {
  "kernelspec": {
   "display_name": "Python 3 (ipykernel)",
   "language": "python",
   "name": "python3"
  },
  "language_info": {
   "codemirror_mode": {
    "name": "ipython",
    "version": 3
   },
   "file_extension": ".py",
   "mimetype": "text/x-python",
   "name": "python",
   "nbconvert_exporter": "python",
   "pygments_lexer": "ipython3",
   "version": "3.12.11"
  }
 },
 "nbformat": 4,
 "nbformat_minor": 5
}
