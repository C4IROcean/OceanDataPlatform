{
 "cells": [
  {
   "cell_type": "markdown",
   "id": "bcb9d267-84b6-4250-a0ef-a7df2628f6b6",
   "metadata": {},
   "source": [
    "# SDK Reference Files - `files()` - read"
   ]
  },
  {
   "cell_type": "markdown",
   "id": "86f9e334-fb27-4a8a-a9b1-944c6f13f709",
   "metadata": {},
   "source": [
    "Ocean Data Platform offers both API and Python SDK interfaces. This notebook highlights the Python SDK."
   ]
  },
  {
   "cell_type": "markdown",
   "id": "5d9f4344-7c1d-4fe5-9a2a-84030d4a3f8a",
   "metadata": {},
   "source": [
    "## Installation"
   ]
  },
  {
   "cell_type": "markdown",
   "id": "8db62fbc-b167-4d22-bbf6-20b253b2b35b",
   "metadata": {},
   "source": [
    "If you are not working in the ODP Workspaces, you need to first install the Python SDK package"
   ]
  },
  {
   "cell_type": "markdown",
   "id": "4757b184-a8ad-4190-9e4f-fb2040811712",
   "metadata": {},
   "source": [
    "```bash\n",
    "pip install -U odp-sdk\n",
    "```"
   ]
  },
  {
   "cell_type": "markdown",
   "id": "f663ff92-9cbb-4d0b-bfe2-9c97a7af528a",
   "metadata": {},
   "source": [
    "## Client Initialization"
   ]
  },
  {
   "cell_type": "code",
   "execution_count": 23,
   "id": "b1d22042-26dc-4e82-bb98-cc7172b4b2e6",
   "metadata": {},
   "outputs": [],
   "source": [
    "from odp.client import Client"
   ]
  },
  {
   "cell_type": "code",
   "execution_count": 24,
   "id": "42760422-e7fc-4091-a0a0-69dc76d4db7e",
   "metadata": {},
   "outputs": [],
   "source": [
    "client = Client()"
   ]
  },
  {
   "cell_type": "markdown",
   "id": "f4d7c2aa-ecb3-456a-8ec7-63e58bb7a8cb",
   "metadata": {},
   "source": [
    "Outside ODP Workspces you can use API Key authentication (don't need to open browser).\n",
    "You can generate an API key in the Ocean Data Platform web interface, under your user profile.\n",
    "```python\n",
    "client = Client(api_key=\"your-api-key\")\n",
    "````"
   ]
  },
  {
   "cell_type": "markdown",
   "id": "35a930bc-039f-4cd8-ad54-b74afaa08be5",
   "metadata": {},
   "source": [
    "## Dataset Access"
   ]
  },
  {
   "cell_type": "markdown",
   "id": "13bcad3e-c6c6-4df5-a61b-efce93983d60",
   "metadata": {},
   "source": [
    "With an initialized `Client` you can access different datasets by using the datasets' UUID. The easiest way is to use https://app.hubocean.earth/catalog to search for datasets and find the UUID (click API).\n",
    "\n",
    "For the Files examples we are using this dataset: \n",
    "\n",
    "**Example Dataset**: Global seafloor hard- and soft-bottom mapping, 0.1° grid [ver202501]  \n",
    "**Dataset ID (UUID)**: `c92750f7-69fe-49da-b077-9b39a28bf2a5`"
   ]
  },
  {
   "cell_type": "markdown",
   "id": "3f66be8d-7454-4c74-a33c-ae98a4700ea8",
   "metadata": {},
   "source": [
    "## Get Dataset"
   ]
  },
  {
   "cell_type": "code",
   "execution_count": 25,
   "id": "cf4021e1-8040-4ed8-ad30-37f68d64d34c",
   "metadata": {},
   "outputs": [],
   "source": [
    "dataset = client.dataset(\"c92750f7-69fe-49da-b077-9b39a28bf2a5\")"
   ]
  },
  {
   "cell_type": "markdown",
   "id": "c7ddb8ab-4cab-4d09-85ff-f031a15022e1",
   "metadata": {},
   "source": [
    "The `dataset` from this UUID will be used in the examples below."
   ]
  },
  {
   "cell_type": "markdown",
   "id": "2a2dc91d-5d81-4b64-ac72-78c63cede91a",
   "metadata": {},
   "source": [
    "## List files and metadata"
   ]
  },
  {
   "cell_type": "markdown",
   "id": "91c2946a-5d6c-4a37-ba20-d20220e12ac0",
   "metadata": {},
   "source": [
    "### list()"
   ]
  },
  {
   "cell_type": "code",
   "execution_count": 26,
   "id": "3488966d-9fcd-4500-b15d-c79818f91cca",
   "metadata": {},
   "outputs": [
    {
     "name": "stdout",
     "output_type": "stream",
     "text": [
      "[{'id': '5015492e-012', 'name': 'wld01_HardBotm_CODA.cog', 'created': '2025-05-28T07:23:29.556000+00:00', 'updated': '2025-06-25T16:12:34.575000+00:00', 'size': 17431938, 'format': '', 'mimetype': 'application/octet-stream', 'geometry': None, 'properties': [['description', 'Values for observation of hard (lithified) bottom'], ['hubocean.io/app', 'odcat'], ['hubocean.io/dataset', 'c92750f7-69fe-49da-b077-9b39a28bf2a5']]}, {'id': '1bc25552-ff9', 'name': 'wld01_HardVsSoftBotm_CODA.png', 'created': '2025-05-28T07:23:31.380000+00:00', 'updated': '2025-06-25T16:12:35.594000+00:00', 'size': 3016312, 'format': '', 'mimetype': 'image/png', 'geometry': None, 'properties': [['description', 'Plot of the most dominant of the two bottom types'], ['hubocean.io/app', 'odcat'], ['hubocean.io/dataset', 'c92750f7-69fe-49da-b077-9b39a28bf2a5']]}, {'id': '32b6ca8d-8f3', 'name': 'wld01_SoftBotm_CODA.cog', 'created': '2025-05-28T07:23:32.567000+00:00', 'updated': '2025-06-25T16:12:37.697000+00:00', 'size': 17002295, 'format': '', 'mimetype': 'application/octet-stream', 'geometry': None, 'properties': [['description', 'Values for observation of soft (sedimented) bottom'], ['hubocean.io/app', 'odcat'], ['hubocean.io/dataset', 'c92750f7-69fe-49da-b077-9b39a28bf2a5']]}, {'id': '76143c93-a2e', 'name': 'wld01_HardVsSoftBotm_CODA.cog', 'created': '2025-05-28T07:23:27.648000+00:00', 'updated': '2025-06-25T16:12:39.598000+00:00', 'size': 17595896, 'format': '', 'mimetype': 'application/octet-stream', 'geometry': None, 'properties': [['description', 'Plot of the most dominant of the two bottom types'], ['hubocean.io/app', 'odcat'], ['hubocean.io/dataset', 'c92750f7-69fe-49da-b077-9b39a28bf2a5']]}]\n"
     ]
    }
   ],
   "source": [
    "# Lists all the files complete with metadata.\n",
    "files = dataset.files.list()\n",
    "print(files)"
   ]
  },
  {
   "cell_type": "code",
   "execution_count": 27,
   "id": "d2d9ff81-411f-4270-8e89-968d9d58507b",
   "metadata": {},
   "outputs": [
    {
     "name": "stdout",
     "output_type": "stream",
     "text": [
      "5015492e-012\n"
     ]
    }
   ],
   "source": [
    "# Get id of the first file\n",
    "file_id = files[0]['id']\n",
    "print(file_id)"
   ]
  },
  {
   "cell_type": "code",
   "execution_count": 28,
   "id": "773738dc-4060-4a7f-981f-587e7d7a5214",
   "metadata": {},
   "outputs": [
    {
     "name": "stdout",
     "output_type": "stream",
     "text": [
      "1\n"
     ]
    }
   ],
   "source": [
    "# List files with query filter \n",
    "large_files = dataset.files.list(\n",
    "    query=\"size < $min_size\",\n",
    "    vars={\"min_size\": 10000000}  # Files < 10MB\n",
    ")\n",
    "print(len(large_files)) # number of files smaller than 10MB"
   ]
  },
  {
   "cell_type": "markdown",
   "id": "8cf5c330-d464-4aeb-8744-8f81266108ec",
   "metadata": {},
   "source": [
    "## Download file"
   ]
  },
  {
   "cell_type": "markdown",
   "id": "a39639db-d44e-4ebb-b2c2-2e26ee7257c5",
   "metadata": {},
   "source": [
    "### download()"
   ]
  },
  {
   "cell_type": "code",
   "execution_count": 29,
   "id": "f5e48efa-3fad-4ff0-b2d7-045c10f2d506",
   "metadata": {},
   "outputs": [],
   "source": [
    "with open(\"downloaded_dataset.cog\", \"wb\") as f:\n",
    "    for chunk in dataset.files.download(file_id):\n",
    "        f.write(chunk)"
   ]
  }
 ],
 "metadata": {
  "kernelspec": {
   "display_name": "Python 3 (ipykernel)",
   "language": "python",
   "name": "python3"
  },
  "language_info": {
   "codemirror_mode": {
    "name": "ipython",
    "version": 3
   },
   "file_extension": ".py",
   "mimetype": "text/x-python",
   "name": "python",
   "nbconvert_exporter": "python",
   "pygments_lexer": "ipython3",
   "version": "3.12.11"
  }
 },
 "nbformat": 4,
 "nbformat_minor": 5
}
