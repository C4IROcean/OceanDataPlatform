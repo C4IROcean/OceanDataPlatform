{
 "cells": [
  {
   "cell_type": "markdown",
   "id": "2931f0b8-932e-4495-bcfc-b155f7926f8c",
   "metadata": {},
   "source": [
    "# SDK Reference Table - `table()` - write"
   ]
  },
  {
   "cell_type": "markdown",
   "id": "fa337205-736f-4da7-a3ba-4e512aae845b",
   "metadata": {},
   "source": [
    "Ocean Data Platform offers both API and Python SDK interfaces. This notebook highlights the Python SDK."
   ]
  },
  {
   "cell_type": "markdown",
   "id": "711ec8eb-ba58-4882-8bc1-297c79ed5e04",
   "metadata": {},
   "source": [
    "| Interface | API | SDK | \n",
    "| ---------- | ---------- | ---------- |\n",
    "| Catalog | STAC and OGC | Coming (Python and R) |\n",
    "| Files | OGC-Read only | Python, Coming (R) |\n",
    "| Table | OGC-Read only | Python, Coming (R) |\n",
    "| Grid | Coming (Python and R) | Coming (Python and R) |"
   ]
  },
  {
   "cell_type": "markdown",
   "id": "fcefd9e9-e012-4e14-9c45-07074806d1e5",
   "metadata": {},
   "source": [
    "## Installation"
   ]
  },
  {
   "cell_type": "markdown",
   "id": "50eb2251-8483-4d41-995b-0037bd6d2598",
   "metadata": {},
   "source": [
    "```bash\n",
    "pip install -U odp-sdk\n",
    "```"
   ]
  },
  {
   "cell_type": "markdown",
   "id": "5e23ef82-6ba5-4e2e-a88a-2997b7b64a11",
   "metadata": {},
   "source": [
    "## Client Initialization"
   ]
  },
  {
   "cell_type": "code",
   "execution_count": 1,
   "id": "83c34a6c-aa35-4588-8dd3-b9e57cfe277a",
   "metadata": {},
   "outputs": [],
   "source": [
    "from odp.client import Client"
   ]
  },
  {
   "cell_type": "code",
   "execution_count": 2,
   "id": "3e70b5f5-c062-4793-bcc6-823b51f3fa8e",
   "metadata": {},
   "outputs": [],
   "source": [
    "import pyarrow as pa"
   ]
  },
  {
   "cell_type": "code",
   "execution_count": 3,
   "id": "2397c384-abb3-4af8-b9cc-a7b43b8aeaa1",
   "metadata": {},
   "outputs": [],
   "source": [
    "# Auto authentication which opens browser to performance authentication process (not in our Workspaces)\n",
    "client = Client()"
   ]
  },
  {
   "cell_type": "code",
   "execution_count": 5,
   "id": "537b5f9c-6af6-49f1-b354-f17a0c1b1bcf",
   "metadata": {},
   "outputs": [],
   "source": [
    "# API Key authentication (don't need to open browser).\n",
    "# You can generate an API key in the Ocean Data Platform web interface, under your user profile.\n",
    "client = Client(api_key=\"your-api-key\")"
   ]
  },
  {
   "cell_type": "markdown",
   "id": "2b5c338c-08f9-46f2-8270-a79e0e6787e4",
   "metadata": {},
   "source": [
    "## Dataset Access"
   ]
  },
  {
   "cell_type": "markdown",
   "id": "a436a77e-ce7b-4446-9603-154430148dbf",
   "metadata": {},
   "source": [
    "With an initialized `Client` you can access different datasets by using the datasets' UUID (click API in the page of the dataset you have created)."
   ]
  },
  {
   "cell_type": "markdown",
   "id": "a9afa098-23b8-47a5-9adb-161d8a4d9cbc",
   "metadata": {},
   "source": [
    "## Get Dataset"
   ]
  },
  {
   "cell_type": "code",
   "execution_count": 4,
   "id": "566ec9c9-3ffb-4ba4-9bd4-dacec00c72f5",
   "metadata": {},
   "outputs": [],
   "source": [
    "# Get dataset\n",
    "dataset = client.dataset(\"7458cf09-bcf4-4a08-8cd0-f935b41ede58\") # Exchange this UUID to your own UUID"
   ]
  },
  {
   "cell_type": "markdown",
   "id": "b45e693c-5241-4467-8bf0-64b457586ae2",
   "metadata": {},
   "source": [
    "The `dataset` from this UUID will be used in the examples below."
   ]
  },
  {
   "cell_type": "markdown",
   "id": "ebcc9f12-f33b-4b2d-8fc0-6563b15e3704",
   "metadata": {},
   "source": [
    "## Create and work with schema and table"
   ]
  },
  {
   "cell_type": "markdown",
   "id": "df50c980-4a4b-40b4-ba9b-33329f48a620",
   "metadata": {},
   "source": [
    "### schema()"
   ]
  },
  {
   "cell_type": "markdown",
   "id": "61529ad6-589e-4e52-8fef-2e907eae0af0",
   "metadata": {},
   "source": [
    "A key concept of the table is the schema. \n",
    "\n",
    "PyArrow Schema is:\n",
    "- A special PyArrow object (pyarrow.lib.Schema)\n",
    "- Created FROM a list of PyArrow Field objects\n",
    "- Behaves LIKE a list (indexing, iteration)\n",
    "- Immutable (can't be modified after creation, but the `alter()` handles this through creating a new schema and reingests the data, see below)\n",
    "\n",
    "There is a comprehensive set of data types in PyArrow: https://arrow.apache.org/docs/python/api/datatypes.html"
   ]
  },
  {
   "cell_type": "code",
   "execution_count": 17,
   "id": "e283865f-3536-431c-acd9-24545cef3ea5",
   "metadata": {},
   "outputs": [],
   "source": [
    "# Create a schema\n",
    "schema = pa.schema([\n",
    "    ('id', pa.int64()),\n",
    "    ('name', pa.string()),\n",
    "    ('size', pa.int64()),\n",
    "    ('sensitive', pa.bool_())\n",
    "])"
   ]
  },
  {
   "cell_type": "markdown",
   "id": "c4a242ea-5dad-4e62-8896-fa13f5d751d0",
   "metadata": {},
   "source": [
    "### create()"
   ]
  },
  {
   "cell_type": "markdown",
   "id": "a61914f7-1881-40b5-ba09-4ab5680921d5",
   "metadata": {},
   "source": [
    "In order to create a table you need to have a dataset. There can only be one table so if you are trying to create a table when there is already one, you will get an error."
   ]
  },
  {
   "cell_type": "code",
   "execution_count": 18,
   "id": "1d51d6bd-3c01-4876-b868-04cc92f47988",
   "metadata": {},
   "outputs": [],
   "source": [
    "dataset.table.create(schema)"
   ]
  },
  {
   "cell_type": "code",
   "execution_count": 19,
   "id": "0db91630-a30d-4df7-8759-3b5de584f0d4",
   "metadata": {},
   "outputs": [
    {
     "name": "stdout",
     "output_type": "stream",
     "text": [
      "id: int64\n",
      "name: string\n",
      "size: int64\n",
      "sensitive: bool\n"
     ]
    }
   ],
   "source": [
    "print(dataset.table.schema())"
   ]
  },
  {
   "cell_type": "code",
   "execution_count": 68,
   "id": "1c8358c6-0256-42b9-8251-bf7acdf6054f",
   "metadata": {},
   "outputs": [
    {
     "data": {
      "text/plain": [
       "{\"num_rows\": 0, \"size\": 0}"
      ]
     },
     "execution_count": 68,
     "metadata": {},
     "output_type": "execute_result"
    }
   ],
   "source": [
    "dataset.table.stats()"
   ]
  },
  {
   "cell_type": "markdown",
   "id": "4700ad57-6e5a-4c61-8614-b10725426383",
   "metadata": {},
   "source": [
    "### alter()"
   ]
  },
  {
   "cell_type": "markdown",
   "id": "67a8d2f4-f50a-4744-8a7e-349de2f2d51e",
   "metadata": {},
   "source": [
    "You can do different alterations of the schema.:\n",
    "- Add a column\n",
    "- Drop a column\n",
    "- Change name of a column\n",
    "- Change type of a column\n",
    "\n",
    "All changes are done by creating a new schema."
   ]
  },
  {
   "cell_type": "code",
   "execution_count": 11,
   "id": "6d162f3f-2bb8-4185-9164-6751b92c41dd",
   "metadata": {},
   "outputs": [],
   "source": [
    "# Get current schema to reference\n",
    "old_schema = dataset.table.schema()\n",
    "\n",
    "# Build entirely new schema from scratch\n",
    "new_schema = pa.schema([\n",
    "    # Copy existing fields\n",
    "    old_schema.field(\"id\"),\n",
    "    \n",
    "    # Add new field\n",
    "    pa.field(\"place\", pa.string()),\n",
    "    \n",
    "    # Copy more fields\n",
    "    old_schema.field(\"name\"),\n",
    "    \n",
    "    # Modify a field (change type)\n",
    "    pa.field(\"size\", pa.float64()),  # Changed from int64\n",
    "\n",
    "    # Drop a field (not adding the field 'sensitive' to the new schema)\n",
    "    \n",
    "])"
   ]
  },
  {
   "cell_type": "code",
   "execution_count": 12,
   "id": "c418fc94-51a3-463b-9449-c026477c1dc2",
   "metadata": {},
   "outputs": [
    {
     "data": {
      "text/plain": [
       "{}"
      ]
     },
     "execution_count": 12,
     "metadata": {},
     "output_type": "execute_result"
    }
   ],
   "source": [
    "# Apply new schema\n",
    "dataset.table.alter(schema=new_schema)"
   ]
  },
  {
   "cell_type": "code",
   "execution_count": 13,
   "id": "dce05586-1cf6-49d0-8777-ebeb5a8d1f84",
   "metadata": {},
   "outputs": [
    {
     "name": "stdout",
     "output_type": "stream",
     "text": [
      "id: int64\n",
      "place: string\n",
      "name: string\n",
      "size: double\n"
     ]
    }
   ],
   "source": [
    "print(dataset.table.schema())"
   ]
  },
  {
   "cell_type": "markdown",
   "id": "6af46cc4-0c80-47e9-a2a1-7e64d4192727",
   "metadata": {},
   "source": [
    "### drop()"
   ]
  },
  {
   "cell_type": "markdown",
   "id": "9b613ae0-33a6-40e7-aa19-ffdbdf333f0a",
   "metadata": {},
   "source": [
    "This drops the table data and schema. It is **irreversible**."
   ]
  },
  {
   "cell_type": "code",
   "execution_count": 14,
   "id": "bc376134-9a56-4421-9a17-260e2a3f5d68",
   "metadata": {},
   "outputs": [],
   "source": [
    "dataset.table.drop()"
   ]
  },
  {
   "cell_type": "code",
   "execution_count": 15,
   "id": "fb04b8ff-dffb-4092-8d8f-3f7dab188150",
   "metadata": {},
   "outputs": [
    {
     "name": "stdout",
     "output_type": "stream",
     "text": [
      "None\n"
     ]
    }
   ],
   "source": [
    "print(dataset.table.schema())"
   ]
  },
  {
   "cell_type": "markdown",
   "id": "640d1a28-cfea-41ff-93f0-64c5f3703405",
   "metadata": {},
   "source": [
    "## Working with rows in table"
   ]
  },
  {
   "cell_type": "markdown",
   "id": "e2de3483-92cb-4c70-a4e1-5c68a1840a9d",
   "metadata": {},
   "source": [
    "You insert or modify data using transactions. Key points:\n",
    "\n",
    "- Use `with` statement - automatically handles commit/rollback\n",
    "- `tx.insert(list_of_dicts)` - insert rows as list of dictionaries\n",
    "- `tx.insert_batch(record_batch)` - insert PyArrow RecordBatch\n",
    "- Auto-commit - on successful exit from `with` block\n",
    "- Auto-rollback - if exception occurs\n",
    "- All or nothing - entire transaction succeeds or fails together\n",
    "\n",
    "Summary: Always use transactions (`with dataset.table as tx:`) to insert rows. This ensures data integrity and automatic rollback on errors!"
   ]
  },
  {
   "cell_type": "markdown",
   "id": "8113b4ec-d4f7-42d6-acfd-e141fd84567d",
   "metadata": {},
   "source": [
    "### tx.insert()"
   ]
  },
  {
   "cell_type": "code",
   "execution_count": 20,
   "id": "0b7737a2-a807-4fd9-a659-cec51bccb9be",
   "metadata": {},
   "outputs": [],
   "source": [
    "# insert a row\n",
    "with dataset.table as tx:\n",
    "    tx.insert([\n",
    "        {\"id\": 123, \"place\": \"Sea\", \"name\": \"Kattegat\", \"size\": 30000},\n",
    "        {\"id\": 456, \"place\": \"Sea\", \"name\": \"Skagerakk\", \"size\": 32000},\n",
    "        {\"id\": 789, \"place\": \"Sea\", \"name\": \"Baltic\", \"size\": 400000}\n",
    "    ])"
   ]
  },
  {
   "cell_type": "code",
   "execution_count": 21,
   "id": "17dfa4ee-e98c-483e-860a-ae126714a3a6",
   "metadata": {},
   "outputs": [],
   "source": [
    "df = dataset.table.select().all().dataframe()"
   ]
  },
  {
   "cell_type": "code",
   "execution_count": 22,
   "id": "5e55141b-dfb1-4226-b477-0d6fd442513e",
   "metadata": {},
   "outputs": [
    {
     "data": {
      "text/html": [
       "<div>\n",
       "<style scoped>\n",
       "    .dataframe tbody tr th:only-of-type {\n",
       "        vertical-align: middle;\n",
       "    }\n",
       "\n",
       "    .dataframe tbody tr th {\n",
       "        vertical-align: top;\n",
       "    }\n",
       "\n",
       "    .dataframe thead th {\n",
       "        text-align: right;\n",
       "    }\n",
       "</style>\n",
       "<table border=\"1\" class=\"dataframe\">\n",
       "  <thead>\n",
       "    <tr style=\"text-align: right;\">\n",
       "      <th></th>\n",
       "      <th>id</th>\n",
       "      <th>name</th>\n",
       "      <th>size</th>\n",
       "      <th>sensitive</th>\n",
       "    </tr>\n",
       "  </thead>\n",
       "  <tbody>\n",
       "    <tr>\n",
       "      <th>0</th>\n",
       "      <td>123</td>\n",
       "      <td>Kattegat</td>\n",
       "      <td>30000</td>\n",
       "      <td>None</td>\n",
       "    </tr>\n",
       "    <tr>\n",
       "      <th>1</th>\n",
       "      <td>456</td>\n",
       "      <td>Skagerakk</td>\n",
       "      <td>32000</td>\n",
       "      <td>None</td>\n",
       "    </tr>\n",
       "    <tr>\n",
       "      <th>2</th>\n",
       "      <td>789</td>\n",
       "      <td>Baltic</td>\n",
       "      <td>400000</td>\n",
       "      <td>None</td>\n",
       "    </tr>\n",
       "  </tbody>\n",
       "</table>\n",
       "</div>"
      ],
      "text/plain": [
       "    id       name    size sensitive\n",
       "0  123   Kattegat   30000      None\n",
       "1  456  Skagerakk   32000      None\n",
       "2  789     Baltic  400000      None"
      ]
     },
     "execution_count": 22,
     "metadata": {},
     "output_type": "execute_result"
    }
   ],
   "source": [
    "df.head()"
   ]
  },
  {
   "cell_type": "markdown",
   "id": "9c3e2f36-8bbc-4c2f-a871-6e3ab740eea5",
   "metadata": {},
   "source": [
    "### tx.replace()"
   ]
  },
  {
   "cell_type": "markdown",
   "id": "4a234af9-a61f-416b-859e-b2e73e008106",
   "metadata": {},
   "source": [
    "How the replace method works:\n",
    "- Finds rows matching your query\n",
    "- Removes them from the table\n",
    "- Returns them to you (as an iterator)\n",
    "- You modify them\n",
    "- You re-insert them (or skip to delete)\n",
    "\n",
    "** Note that the filter can return multiple rows and applies to all the rows. **"
   ]
  },
  {
   "cell_type": "code",
   "execution_count": 23,
   "id": "218e714b-4616-4960-b057-8e650b85cdb2",
   "metadata": {},
   "outputs": [],
   "source": [
    "# replace a row\n",
    "\n",
    "with dataset.table as tx:\n",
    "    for row in tx.replace(filter=\"name == 'Baltic'\").rows():\n",
    "        # Row is removed from table at this point\n",
    "        \n",
    "        # Option 1: Modify and re-insert (UPDATE)\n",
    "        row['size'] = 415000\n",
    "        tx.insert([row])\n",
    "        \n",
    "        # Option 2: Don't re-insert (DELETE)\n",
    "        # Just skip it\n",
    "        \n",
    "        # Option 3: Insert multiple rows\n",
    "        #tx.insert([row, modified_row, another_row])'''"
   ]
  },
  {
   "cell_type": "code",
   "execution_count": 26,
   "id": "2c1a1025-93e9-4190-90eb-d5e1b60d5cb6",
   "metadata": {},
   "outputs": [
    {
     "data": {
      "text/html": [
       "<div>\n",
       "<style scoped>\n",
       "    .dataframe tbody tr th:only-of-type {\n",
       "        vertical-align: middle;\n",
       "    }\n",
       "\n",
       "    .dataframe tbody tr th {\n",
       "        vertical-align: top;\n",
       "    }\n",
       "\n",
       "    .dataframe thead th {\n",
       "        text-align: right;\n",
       "    }\n",
       "</style>\n",
       "<table border=\"1\" class=\"dataframe\">\n",
       "  <thead>\n",
       "    <tr style=\"text-align: right;\">\n",
       "      <th></th>\n",
       "      <th>id</th>\n",
       "      <th>name</th>\n",
       "      <th>size</th>\n",
       "      <th>sensitive</th>\n",
       "    </tr>\n",
       "  </thead>\n",
       "  <tbody>\n",
       "    <tr>\n",
       "      <th>0</th>\n",
       "      <td>789</td>\n",
       "      <td>Baltic</td>\n",
       "      <td>415000</td>\n",
       "      <td>None</td>\n",
       "    </tr>\n",
       "    <tr>\n",
       "      <th>1</th>\n",
       "      <td>123</td>\n",
       "      <td>Kattegat</td>\n",
       "      <td>30000</td>\n",
       "      <td>None</td>\n",
       "    </tr>\n",
       "    <tr>\n",
       "      <th>2</th>\n",
       "      <td>456</td>\n",
       "      <td>Skagerakk</td>\n",
       "      <td>32000</td>\n",
       "      <td>None</td>\n",
       "    </tr>\n",
       "  </tbody>\n",
       "</table>\n",
       "</div>"
      ],
      "text/plain": [
       "    id       name    size sensitive\n",
       "0  789     Baltic  415000      None\n",
       "1  123   Kattegat   30000      None\n",
       "2  456  Skagerakk   32000      None"
      ]
     },
     "execution_count": 26,
     "metadata": {},
     "output_type": "execute_result"
    }
   ],
   "source": [
    "df = dataset.table.select().all().dataframe()\n",
    "df.head()"
   ]
  },
  {
   "cell_type": "markdown",
   "id": "3e1b6978-6774-4d17-9eb8-e3065092f1ea",
   "metadata": {},
   "source": [
    "Since the changes are applied to all rows returned, you must be careful when using.\n",
    "\n",
    "Tips\n",
    "\n",
    "- Replace() returns an iterator - you can loop through matching rows\n",
    "- Query affects ALL matches - if 100 rows match, 100 rows are updated\n",
    "- Check count first - use select() to preview\n",
    "- Use specific queries - avoid accidentally updating too many rows\n",
    "- Batch large updates - process in smaller transactions\n",
    "- Empty query = ALL rows - be very careful!"
   ]
  }
 ],
 "metadata": {
  "kernelspec": {
   "display_name": "Python 3 (ipykernel)",
   "language": "python",
   "name": "python3"
  },
  "language_info": {
   "codemirror_mode": {
    "name": "ipython",
    "version": 3
   },
   "file_extension": ".py",
   "mimetype": "text/x-python",
   "name": "python",
   "nbconvert_exporter": "python",
   "pygments_lexer": "ipython3",
   "version": "3.12.11"
  }
 },
 "nbformat": 4,
 "nbformat_minor": 5
}
